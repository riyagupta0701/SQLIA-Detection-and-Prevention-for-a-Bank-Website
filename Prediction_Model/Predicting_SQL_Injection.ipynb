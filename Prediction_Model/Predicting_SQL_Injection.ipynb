{
 "cells": [
  {
   "cell_type": "markdown",
   "metadata": {},
   "source": [
    "## Predicting SQL Injection"
   ]
  },
  {
   "cell_type": "markdown",
   "metadata": {},
   "source": [
    "### Import libraries"
   ]
  },
  {
   "cell_type": "code",
   "execution_count": 1,
   "metadata": {
    "_cell_guid": "79c7e3d0-c299-4dcb-8224-4455121ee9b0",
    "_uuid": "d629ff2d2480ee46fbb7e2d37f6b5fab8052498a",
    "execution": {
     "iopub.execute_input": "2020-09-23T12:02:41.771470Z",
     "iopub.status.busy": "2020-09-23T12:02:41.770537Z",
     "iopub.status.idle": "2020-09-23T12:02:44.074241Z",
     "shell.execute_reply": "2020-09-23T12:02:44.074800Z"
    },
    "papermill": {
     "duration": 2.336633,
     "end_time": "2020-09-23T12:02:44.074963",
     "exception": false,
     "start_time": "2020-09-23T12:02:41.738330",
     "status": "completed"
    },
    "tags": []
   },
   "outputs": [
    {
     "name": "stderr",
     "output_type": "stream",
     "text": [
      "[nltk_data] Downloading package punkt to /Users/riyagupta/nltk_data...\n",
      "[nltk_data]   Package punkt is already up-to-date!\n",
      "[nltk_data] Downloading package stopwords to\n",
      "[nltk_data]     /Users/riyagupta/nltk_data...\n",
      "[nltk_data]   Package stopwords is already up-to-date!\n",
      "[nltk_data] Downloading package wordnet to\n",
      "[nltk_data]     /Users/riyagupta/nltk_data...\n",
      "[nltk_data]   Package wordnet is already up-to-date!\n"
     ]
    }
   ],
   "source": [
    "import glob\n",
    "import time\n",
    "import pandas as pd\n",
    "import matplotlib.pyplot as plt\n",
    "import seaborn as sns\n",
    "from nltk import ngrams\n",
    "from nltk.tokenize import sent_tokenize\n",
    "import nltk\n",
    "nltk.download('punkt')\n",
    "nltk.download('stopwords')\n",
    "nltk.download('wordnet')\n",
    "from nltk.stem import PorterStemmer\n",
    "from nltk.stem import PorterStemmer\n",
    "from nltk.tokenize import sent_tokenize, word_tokenize\n",
    "from nltk.stem import WordNetLemmatizer\n",
    "from nltk.corpus import stopwords \n",
    "from nltk.tokenize import word_tokenize\n",
    "import warnings\n",
    "warnings.filterwarnings(\"ignore\")"
   ]
  },
  {
   "cell_type": "markdown",
   "metadata": {},
   "source": [
    "### Import Dataset"
   ]
  },
  {
   "cell_type": "code",
   "execution_count": 2,
   "metadata": {
    "_cell_guid": "",
    "_uuid": "",
    "execution": {
     "iopub.execute_input": "2020-09-23T12:02:44.144111Z",
     "iopub.status.busy": "2020-09-23T12:02:44.143392Z",
     "iopub.status.idle": "2020-09-23T12:02:44.173753Z",
     "shell.execute_reply": "2020-09-23T12:02:44.173091Z"
    },
    "papermill": {
     "duration": 0.069288,
     "end_time": "2020-09-23T12:02:44.173876",
     "exception": false,
     "start_time": "2020-09-23T12:02:44.104588",
     "status": "completed"
    },
    "tags": []
   },
   "outputs": [],
   "source": [
    "df = pd.read_csv(\"data/sqliv.csv\",encoding='utf-16')"
   ]
  },
  {
   "cell_type": "code",
   "execution_count": 3,
   "metadata": {},
   "outputs": [
    {
     "data": {
      "text/html": [
       "<div>\n",
       "<style scoped>\n",
       "    .dataframe tbody tr th:only-of-type {\n",
       "        vertical-align: middle;\n",
       "    }\n",
       "\n",
       "    .dataframe tbody tr th {\n",
       "        vertical-align: top;\n",
       "    }\n",
       "\n",
       "    .dataframe thead th {\n",
       "        text-align: right;\n",
       "    }\n",
       "</style>\n",
       "<table border=\"1\" class=\"dataframe\">\n",
       "  <thead>\n",
       "    <tr style=\"text-align: right;\">\n",
       "      <th></th>\n",
       "      <th>Sentence</th>\n",
       "      <th>Label</th>\n",
       "    </tr>\n",
       "  </thead>\n",
       "  <tbody>\n",
       "    <tr>\n",
       "      <th>0</th>\n",
       "      <td>a</td>\n",
       "      <td>1</td>\n",
       "    </tr>\n",
       "    <tr>\n",
       "      <th>1</th>\n",
       "      <td>a'</td>\n",
       "      <td>1</td>\n",
       "    </tr>\n",
       "    <tr>\n",
       "      <th>2</th>\n",
       "      <td>a' --</td>\n",
       "      <td>1</td>\n",
       "    </tr>\n",
       "    <tr>\n",
       "      <th>3</th>\n",
       "      <td>a' or 1 = 1; --</td>\n",
       "      <td>1</td>\n",
       "    </tr>\n",
       "    <tr>\n",
       "      <th>4</th>\n",
       "      <td>@</td>\n",
       "      <td>1</td>\n",
       "    </tr>\n",
       "    <tr>\n",
       "      <th>...</th>\n",
       "      <td>...</td>\n",
       "      <td>...</td>\n",
       "    </tr>\n",
       "    <tr>\n",
       "      <th>4195</th>\n",
       "      <td>org/?option = com_k2  &lt;a href = \"http://corfopym</td>\n",
       "      <td>0</td>\n",
       "    </tr>\n",
       "    <tr>\n",
       "      <th>4196</th>\n",
       "      <td>com/?option = com_k2  &lt;act&gt;  &lt;![CDATA[procMemb...</td>\n",
       "      <td>0</td>\n",
       "    </tr>\n",
       "    <tr>\n",
       "      <th>4197</th>\n",
       "      <td>picsearch</td>\n",
       "      <td>0</td>\n",
       "    </tr>\n",
       "    <tr>\n",
       "      <th>4198</th>\n",
       "      <td>com/is?-WZx-uhyLezKNiYLvAbKL3W4oh5F749nr2KUmFF...</td>\n",
       "      <td>0</td>\n",
       "    </tr>\n",
       "    <tr>\n",
       "      <th>4199</th>\n",
       "      <td>de]]&gt;  &lt;/email_address&gt;   &lt;find_account_answer...</td>\n",
       "      <td>0</td>\n",
       "    </tr>\n",
       "  </tbody>\n",
       "</table>\n",
       "<p>4200 rows × 2 columns</p>\n",
       "</div>"
      ],
      "text/plain": [
       "                                               Sentence  Label\n",
       "0                                                     a      1\n",
       "1                                                   a'       1\n",
       "2                                                 a' --      1\n",
       "3                                       a' or 1 = 1; --      1\n",
       "4                                                     @      1\n",
       "...                                                 ...    ...\n",
       "4195   org/?option = com_k2  <a href = \"http://corfopym      0\n",
       "4196  com/?option = com_k2  <act>  <![CDATA[procMemb...      0\n",
       "4197                                          picsearch      0\n",
       "4198  com/is?-WZx-uhyLezKNiYLvAbKL3W4oh5F749nr2KUmFF...      0\n",
       "4199  de]]>  </email_address>   <find_account_answer...      0\n",
       "\n",
       "[4200 rows x 2 columns]"
      ]
     },
     "execution_count": 3,
     "metadata": {},
     "output_type": "execute_result"
    }
   ],
   "source": [
    "df"
   ]
  },
  {
   "cell_type": "markdown",
   "metadata": {},
   "source": [
    "### Data Preprocessing"
   ]
  },
  {
   "cell_type": "code",
   "execution_count": 4,
   "metadata": {
    "execution": {
     "iopub.execute_input": "2020-09-23T12:02:44.239675Z",
     "iopub.status.busy": "2020-09-23T12:02:44.239008Z",
     "iopub.status.idle": "2020-09-23T12:02:44.520363Z",
     "shell.execute_reply": "2020-09-23T12:02:44.519745Z"
    },
    "papermill": {
     "duration": 0.316896,
     "end_time": "2020-09-23T12:02:44.520475",
     "exception": false,
     "start_time": "2020-09-23T12:02:44.203579",
     "status": "completed"
    },
    "tags": []
   },
   "outputs": [],
   "source": [
    "from sklearn.feature_extraction.text import CountVectorizer\n",
    "vectorizer = CountVectorizer( min_df=2, max_df=0.7, stop_words=stopwords.words('english'))\n",
    "posts = vectorizer.fit_transform(df['Sentence'].values.astype('U')).toarray()"
   ]
  },
  {
   "cell_type": "code",
   "execution_count": 5,
   "metadata": {
    "execution": {
     "iopub.execute_input": "2020-09-23T12:02:44.583082Z",
     "iopub.status.busy": "2020-09-23T12:02:44.582255Z",
     "iopub.status.idle": "2020-09-23T12:02:44.585502Z",
     "shell.execute_reply": "2020-09-23T12:02:44.584926Z"
    },
    "papermill": {
     "duration": 0.036186,
     "end_time": "2020-09-23T12:02:44.585652",
     "exception": false,
     "start_time": "2020-09-23T12:02:44.549466",
     "status": "completed"
    },
    "tags": []
   },
   "outputs": [],
   "source": [
    "transformed_posts=pd.DataFrame(posts)"
   ]
  },
  {
   "cell_type": "code",
   "execution_count": 6,
   "metadata": {
    "execution": {
     "iopub.execute_input": "2020-09-23T12:02:44.649778Z",
     "iopub.status.busy": "2020-09-23T12:02:44.648683Z",
     "iopub.status.idle": "2020-09-23T12:02:44.948200Z",
     "shell.execute_reply": "2020-09-23T12:02:44.947586Z"
    },
    "papermill": {
     "duration": 0.33351,
     "end_time": "2020-09-23T12:02:44.948316",
     "exception": false,
     "start_time": "2020-09-23T12:02:44.614806",
     "status": "completed"
    },
    "tags": []
   },
   "outputs": [],
   "source": [
    "df=pd.concat([df,transformed_posts],axis=1)"
   ]
  },
  {
   "cell_type": "markdown",
   "metadata": {},
   "source": [
    "### Splitting the dataset"
   ]
  },
  {
   "cell_type": "code",
   "execution_count": 7,
   "metadata": {
    "execution": {
     "iopub.execute_input": "2020-09-23T12:02:45.018255Z",
     "iopub.status.busy": "2020-09-23T12:02:45.016870Z",
     "iopub.status.idle": "2020-09-23T12:02:45.212078Z",
     "shell.execute_reply": "2020-09-23T12:02:45.211474Z"
    },
    "papermill": {
     "duration": 0.233138,
     "end_time": "2020-09-23T12:02:45.212188",
     "exception": false,
     "start_time": "2020-09-23T12:02:44.979050",
     "status": "completed"
    },
    "tags": []
   },
   "outputs": [],
   "source": [
    "X=df[df.columns[2:]]"
   ]
  },
  {
   "cell_type": "code",
   "execution_count": 8,
   "metadata": {
    "execution": {
     "iopub.execute_input": "2020-09-23T12:02:45.277274Z",
     "iopub.status.busy": "2020-09-23T12:02:45.276321Z",
     "iopub.status.idle": "2020-09-23T12:02:45.279663Z",
     "shell.execute_reply": "2020-09-23T12:02:45.279065Z"
    },
    "papermill": {
     "duration": 0.037299,
     "end_time": "2020-09-23T12:02:45.279773",
     "exception": false,
     "start_time": "2020-09-23T12:02:45.242474",
     "status": "completed"
    },
    "tags": []
   },
   "outputs": [],
   "source": [
    "y=df['Label']"
   ]
  },
  {
   "cell_type": "code",
   "execution_count": 9,
   "metadata": {
    "execution": {
     "iopub.execute_input": "2020-09-23T12:02:45.344912Z",
     "iopub.status.busy": "2020-09-23T12:02:45.343989Z",
     "iopub.status.idle": "2020-09-23T12:02:45.347430Z",
     "shell.execute_reply": "2020-09-23T12:02:45.346907Z"
    },
    "papermill": {
     "duration": 0.037508,
     "end_time": "2020-09-23T12:02:45.347576",
     "exception": false,
     "start_time": "2020-09-23T12:02:45.310068",
     "status": "completed"
    },
    "tags": []
   },
   "outputs": [],
   "source": [
    "from sklearn.model_selection import train_test_split"
   ]
  },
  {
   "cell_type": "code",
   "execution_count": 10,
   "metadata": {
    "execution": {
     "iopub.execute_input": "2020-09-23T12:02:45.413670Z",
     "iopub.status.busy": "2020-09-23T12:02:45.413039Z",
     "iopub.status.idle": "2020-09-23T12:02:45.511425Z",
     "shell.execute_reply": "2020-09-23T12:02:45.511999Z"
    },
    "papermill": {
     "duration": 0.134524,
     "end_time": "2020-09-23T12:02:45.512155",
     "exception": false,
     "start_time": "2020-09-23T12:02:45.377631",
     "status": "completed"
    },
    "tags": []
   },
   "outputs": [],
   "source": [
    "X_train, X_test, y_train, y_test = train_test_split(X, y, test_size=0.2, random_state=42)"
   ]
  },
  {
   "cell_type": "markdown",
   "metadata": {},
   "source": [
    "### Training the model"
   ]
  },
  {
   "cell_type": "code",
   "execution_count": 11,
   "metadata": {
    "execution": {
     "iopub.execute_input": "2020-09-23T12:02:45.704269Z",
     "iopub.status.busy": "2020-09-23T12:02:45.675846Z",
     "iopub.status.idle": "2020-09-23T12:02:46.554794Z",
     "shell.execute_reply": "2020-09-23T12:02:46.553988Z"
    },
    "papermill": {
     "duration": 0.92765,
     "end_time": "2020-09-23T12:02:46.554950",
     "exception": false,
     "start_time": "2020-09-23T12:02:45.627300",
     "status": "completed"
    },
    "tags": []
   },
   "outputs": [],
   "source": [
    "from sklearn.linear_model import LogisticRegression\n",
    "clf = LogisticRegression(random_state=0)\n",
    "clf = clf.fit(X_train, y_train)"
   ]
  },
  {
   "cell_type": "code",
   "execution_count": 12,
   "metadata": {
    "execution": {
     "iopub.execute_input": "2020-09-23T12:02:46.640588Z",
     "iopub.status.busy": "2020-09-23T12:02:46.639605Z",
     "iopub.status.idle": "2020-09-23T12:02:46.642835Z",
     "shell.execute_reply": "2020-09-23T12:02:46.642244Z"
    },
    "papermill": {
     "duration": 0.047809,
     "end_time": "2020-09-23T12:02:46.642951",
     "exception": false,
     "start_time": "2020-09-23T12:02:46.595142",
     "status": "completed"
    },
    "tags": []
   },
   "outputs": [],
   "source": [
    "from sklearn.metrics import accuracy_score"
   ]
  },
  {
   "cell_type": "code",
   "execution_count": 13,
   "metadata": {
    "execution": {
     "iopub.execute_input": "2020-09-23T12:02:46.727098Z",
     "iopub.status.busy": "2020-09-23T12:02:46.726126Z",
     "iopub.status.idle": "2020-09-23T12:02:46.828320Z",
     "shell.execute_reply": "2020-09-23T12:02:46.829674Z"
    },
    "papermill": {
     "duration": 0.155591,
     "end_time": "2020-09-23T12:02:46.829867",
     "exception": false,
     "start_time": "2020-09-23T12:02:46.674276",
     "status": "completed"
    },
    "tags": []
   },
   "outputs": [],
   "source": [
    "y_pred=clf.predict(X_test)"
   ]
  },
  {
   "cell_type": "code",
   "execution_count": 14,
   "metadata": {
    "execution": {
     "iopub.execute_input": "2020-09-23T12:02:47.000120Z",
     "iopub.status.busy": "2020-09-23T12:02:46.998970Z",
     "iopub.status.idle": "2020-09-23T12:02:47.002820Z",
     "shell.execute_reply": "2020-09-23T12:02:47.003556Z"
    },
    "papermill": {
     "duration": 0.122596,
     "end_time": "2020-09-23T12:02:47.003764",
     "exception": false,
     "start_time": "2020-09-23T12:02:46.881168",
     "status": "completed"
    },
    "tags": []
   },
   "outputs": [
    {
     "data": {
      "text/plain": [
       "0.9285714285714286"
      ]
     },
     "execution_count": 14,
     "metadata": {},
     "output_type": "execute_result"
    }
   ],
   "source": [
    "accuracy_score(y_test, y_pred)"
   ]
  },
  {
   "cell_type": "markdown",
   "metadata": {},
   "source": [
    "### Classification"
   ]
  },
  {
   "cell_type": "code",
   "execution_count": 15,
   "metadata": {
    "execution": {
     "iopub.execute_input": "2020-09-23T12:02:47.132529Z",
     "iopub.status.busy": "2020-09-23T12:02:47.131438Z",
     "iopub.status.idle": "2020-09-23T12:02:54.729998Z",
     "shell.execute_reply": "2020-09-23T12:02:54.730828Z"
    },
    "papermill": {
     "duration": 7.658514,
     "end_time": "2020-09-23T12:02:54.730981",
     "exception": false,
     "start_time": "2020-09-23T12:02:47.072467",
     "status": "completed"
    },
    "tags": []
   },
   "outputs": [],
   "source": [
    "from keras.models import Sequential\n",
    "from keras import layers\n",
    "from keras.preprocessing.text import Tokenizer\n",
    "from keras.wrappers.scikit_learn import KerasClassifier"
   ]
  },
  {
   "cell_type": "code",
   "execution_count": 16,
   "metadata": {
    "execution": {
     "iopub.execute_input": "2020-09-23T12:02:54.800493Z",
     "iopub.status.busy": "2020-09-23T12:02:54.799881Z",
     "iopub.status.idle": "2020-09-23T12:02:55.019976Z",
     "shell.execute_reply": "2020-09-23T12:02:55.019262Z"
    },
    "papermill": {
     "duration": 0.256026,
     "end_time": "2020-09-23T12:02:55.020098",
     "exception": false,
     "start_time": "2020-09-23T12:02:54.764072",
     "status": "completed"
    },
    "tags": []
   },
   "outputs": [],
   "source": [
    "input_dim = X_train.shape[1]  # Number of features\n",
    "\n",
    "model = Sequential()\n",
    "model.add(layers.Dense(20, input_dim=input_dim, activation='relu'))\n",
    "model.add(layers.Dense(10,  activation='tanh'))\n",
    "model.add(layers.Dense(1024, activation='relu'))\n",
    "\n",
    "model.add(layers.BatchNormalization())\n",
    "model.add(layers.Dropout(0.5))\n",
    "model.add(layers.Dense(1, activation='sigmoid'))\n"
   ]
  },
  {
   "cell_type": "markdown",
   "metadata": {},
   "source": [
    "### Compile the model"
   ]
  },
  {
   "cell_type": "code",
   "execution_count": 17,
   "metadata": {
    "execution": {
     "iopub.execute_input": "2020-09-23T12:02:55.087549Z",
     "iopub.status.busy": "2020-09-23T12:02:55.086970Z",
     "iopub.status.idle": "2020-09-23T12:02:55.108455Z",
     "shell.execute_reply": "2020-09-23T12:02:55.107731Z"
    },
    "papermill": {
     "duration": 0.056189,
     "end_time": "2020-09-23T12:02:55.108595",
     "exception": false,
     "start_time": "2020-09-23T12:02:55.052406",
     "status": "completed"
    },
    "tags": []
   },
   "outputs": [
    {
     "name": "stdout",
     "output_type": "stream",
     "text": [
      "Model: \"sequential\"\n",
      "_________________________________________________________________\n",
      "Layer (type)                 Output Shape              Param #   \n",
      "=================================================================\n",
      "dense (Dense)                (None, 20)                94360     \n",
      "_________________________________________________________________\n",
      "dense_1 (Dense)              (None, 10)                210       \n",
      "_________________________________________________________________\n",
      "dense_2 (Dense)              (None, 1024)              11264     \n",
      "_________________________________________________________________\n",
      "batch_normalization (BatchNo (None, 1024)              4096      \n",
      "_________________________________________________________________\n",
      "dropout (Dropout)            (None, 1024)              0         \n",
      "_________________________________________________________________\n",
      "dense_3 (Dense)              (None, 1)                 1025      \n",
      "=================================================================\n",
      "Total params: 110,955\n",
      "Trainable params: 108,907\n",
      "Non-trainable params: 2,048\n",
      "_________________________________________________________________\n"
     ]
    }
   ],
   "source": [
    "model.compile(loss='binary_crossentropy', optimizer='adam', metrics=['accuracy'])\n",
    "model.summary()"
   ]
  },
  {
   "cell_type": "code",
   "execution_count": 18,
   "metadata": {
    "execution": {
     "iopub.execute_input": "2020-09-23T12:02:55.180099Z",
     "iopub.status.busy": "2020-09-23T12:02:55.179400Z",
     "iopub.status.idle": "2020-09-23T12:03:02.996301Z",
     "shell.execute_reply": "2020-09-23T12:03:02.995249Z"
    },
    "papermill": {
     "duration": 7.855225,
     "end_time": "2020-09-23T12:03:02.996520",
     "exception": false,
     "start_time": "2020-09-23T12:02:55.141295",
     "status": "completed"
    },
    "tags": []
   },
   "outputs": [
    {
     "name": "stdout",
     "output_type": "stream",
     "text": [
      "Epoch 1/10\n",
      "224/224 [==============================] - 1s 3ms/step - loss: 0.2177 - accuracy: 0.9077 - val_loss: 0.6924 - val_accuracy: 0.7000\n",
      "Epoch 2/10\n",
      "224/224 [==============================] - 0s 2ms/step - loss: 0.1154 - accuracy: 0.9563 - val_loss: 0.3730 - val_accuracy: 0.7190\n",
      "Epoch 3/10\n",
      "224/224 [==============================] - 0s 2ms/step - loss: 0.0867 - accuracy: 0.9670 - val_loss: 0.0701 - val_accuracy: 0.9798\n",
      "Epoch 4/10\n",
      "224/224 [==============================] - 0s 2ms/step - loss: 0.0768 - accuracy: 0.9759 - val_loss: 0.0597 - val_accuracy: 0.9762\n",
      "Epoch 5/10\n",
      "224/224 [==============================] - 1s 2ms/step - loss: 0.0879 - accuracy: 0.9688 - val_loss: 0.0837 - val_accuracy: 0.9726\n",
      "Epoch 6/10\n",
      "224/224 [==============================] - 1s 2ms/step - loss: 0.0806 - accuracy: 0.9723 - val_loss: 0.0858 - val_accuracy: 0.9738\n",
      "Epoch 7/10\n",
      "224/224 [==============================] - 0s 2ms/step - loss: 0.0683 - accuracy: 0.9759 - val_loss: 0.0673 - val_accuracy: 0.9774\n",
      "Epoch 8/10\n",
      "224/224 [==============================] - 1s 2ms/step - loss: 0.0776 - accuracy: 0.9759 - val_loss: 0.0594 - val_accuracy: 0.9798\n",
      "Epoch 9/10\n",
      "224/224 [==============================] - 1s 2ms/step - loss: 0.0761 - accuracy: 0.9729 - val_loss: 0.0579 - val_accuracy: 0.9798\n",
      "Epoch 10/10\n",
      "224/224 [==============================] - 1s 2ms/step - loss: 0.0766 - accuracy: 0.9741 - val_loss: 0.0617 - val_accuracy: 0.9786\n"
     ]
    }
   ],
   "source": [
    "classifier_cnn = model.fit(X_train,y_train, epochs=10,verbose=True, batch_size=15, validation_data=(X_test, y_test))"
   ]
  },
  {
   "cell_type": "markdown",
   "metadata": {},
   "source": [
    "### Predicting the test data"
   ]
  },
  {
   "cell_type": "code",
   "execution_count": 19,
   "metadata": {
    "execution": {
     "iopub.execute_input": "2020-09-23T12:03:03.160324Z",
     "iopub.status.busy": "2020-09-23T12:03:03.159610Z",
     "iopub.status.idle": "2020-09-23T12:03:03.374712Z",
     "shell.execute_reply": "2020-09-23T12:03:03.374132Z"
    },
    "papermill": {
     "duration": 0.294758,
     "end_time": "2020-09-23T12:03:03.374821",
     "exception": false,
     "start_time": "2020-09-23T12:03:03.080063",
     "status": "completed"
    },
    "tags": []
   },
   "outputs": [],
   "source": [
    "pred = model.predict(X_test)"
   ]
  },
  {
   "cell_type": "code",
   "execution_count": 20,
   "metadata": {
    "execution": {
     "iopub.execute_input": "2020-09-23T12:03:03.529921Z",
     "iopub.status.busy": "2020-09-23T12:03:03.528401Z",
     "iopub.status.idle": "2020-09-23T12:03:03.533027Z",
     "shell.execute_reply": "2020-09-23T12:03:03.533734Z"
    },
    "papermill": {
     "duration": 0.086124,
     "end_time": "2020-09-23T12:03:03.533899",
     "exception": false,
     "start_time": "2020-09-23T12:03:03.447775",
     "status": "completed"
    },
    "tags": []
   },
   "outputs": [],
   "source": [
    "for i in range(len(pred)):\n",
    "    if pred[i]>0.5:\n",
    "        pred[i]=1\n",
    "    elif pred[i]<=0.5:\n",
    "        pred[i]=0"
   ]
  },
  {
   "cell_type": "code",
   "execution_count": 21,
   "metadata": {
    "execution": {
     "iopub.execute_input": "2020-09-23T12:03:03.684635Z",
     "iopub.status.busy": "2020-09-23T12:03:03.683957Z",
     "iopub.status.idle": "2020-09-23T12:03:03.691122Z",
     "shell.execute_reply": "2020-09-23T12:03:03.690419Z"
    },
    "papermill": {
     "duration": 0.083798,
     "end_time": "2020-09-23T12:03:03.691227",
     "exception": false,
     "start_time": "2020-09-23T12:03:03.607429",
     "status": "completed"
    },
    "tags": []
   },
   "outputs": [
    {
     "data": {
      "text/plain": [
       "0.9785714285714285"
      ]
     },
     "execution_count": 21,
     "metadata": {},
     "output_type": "execute_result"
    }
   ],
   "source": [
    "acc = accuracy_score(y_test,pred)\n",
    "acc"
   ]
  },
  {
   "cell_type": "markdown",
   "metadata": {},
   "source": [
    "### Confusion Matrix"
   ]
  },
  {
   "cell_type": "code",
   "execution_count": 22,
   "metadata": {},
   "outputs": [
    {
     "name": "stdout",
     "output_type": "stream",
     "text": [
      "Confusion Matrix: \n",
      "[[570  18]\n",
      " [  0 252]]\n",
      "Accuracy Score:  0.9785714285714285\n",
      "Precision Score:  0.9333333333333333\n",
      "Recall Score:  1.0\n",
      "F1 Score:  0.9655172413793104\n"
     ]
    }
   ],
   "source": [
    "from sklearn.metrics import confusion_matrix, accuracy_score, precision_score, recall_score, f1_score\n",
    "cm = confusion_matrix(y_test, pred)\n",
    "\n",
    "print('Confusion Matrix: ')\n",
    "print(cm)\n",
    "as1 = accuracy_score(y_test, pred)\n",
    "ps1 = precision_score(y_test, pred)\n",
    "rs1 = recall_score(y_test, pred)\n",
    "f1s1 = f1_score(y_test, pred)\n",
    "print('Accuracy Score: ',as1)\n",
    "print('Precision Score: ',ps1)\n",
    "print('Recall Score: ',rs1)\n",
    "print('F1 Score: ',f1s1)"
   ]
  },
  {
   "cell_type": "markdown",
   "metadata": {},
   "source": [
    "### Classification Report"
   ]
  },
  {
   "cell_type": "code",
   "execution_count": 23,
   "metadata": {},
   "outputs": [
    {
     "name": "stdout",
     "output_type": "stream",
     "text": [
      "                        precision    recall  f1-score   support\n",
      "\n",
      "      Normal SQL Query       1.00      0.97      0.98       588\n",
      "SQL Injection Detected       0.93      1.00      0.97       252\n",
      "\n",
      "              accuracy                           0.98       840\n",
      "             macro avg       0.97      0.98      0.97       840\n",
      "          weighted avg       0.98      0.98      0.98       840\n",
      "\n"
     ]
    }
   ],
   "source": [
    "from sklearn.metrics import classification_report\n",
    "print(classification_report(y_test, pred, target_names=['Normal SQL Query', 'SQL Injection Detected']))"
   ]
  },
  {
   "cell_type": "markdown",
   "metadata": {},
   "source": [
    "### Heat Map for CNN"
   ]
  },
  {
   "cell_type": "code",
   "execution_count": 24,
   "metadata": {},
   "outputs": [
    {
     "data": {
      "text/plain": [
       "<AxesSubplot:>"
      ]
     },
     "execution_count": 24,
     "metadata": {},
     "output_type": "execute_result"
    },
    {
     "data": {
      "image/png": "[encoded data removed]",
      "text/plain": [
       "<Figure size 432x288 with 2 Axes>"
      ]
     },
     "metadata": {
      "needs_background": "light"
     },
     "output_type": "display_data"
    }
   ],
   "source": [
    "clf_report = classification_report(y_test, pred, target_names=['Normal SQL Query', 'SQL Injection Detected'], output_dict=True)\n",
    "cleaned_report = {}\n",
    "\n",
    "cleaned_report['Normal SQL Query'] = clf_report['Normal SQL Query']\n",
    "cleaned_report['SQL Injection Detected'] = clf_report['SQL Injection Detected']\n",
    "\n",
    "sns.heatmap(pd.DataFrame(cleaned_report), annot=True, cmap=\"Blues\")"
   ]
  },
  {
   "cell_type": "markdown",
   "metadata": {
    "papermill": {
     "duration": 0.075388,
     "end_time": "2020-09-23T12:03:05.135763",
     "exception": false,
     "start_time": "2020-09-23T12:03:05.060375",
     "status": "completed"
    },
    "tags": []
   },
   "source": [
    "### Using different algorithms to get the best accuracy\n",
    "\n",
    "#### Gaussian Naive Bayes"
   ]
  },
  {
   "cell_type": "code",
   "execution_count": 25,
   "metadata": {
    "execution": {
     "iopub.execute_input": "2020-09-23T12:03:05.295659Z",
     "iopub.status.busy": "2020-09-23T12:03:05.295021Z",
     "iopub.status.idle": "2020-09-23T12:03:05.786164Z",
     "shell.execute_reply": "2020-09-23T12:03:05.785507Z"
    },
    "papermill": {
     "duration": 0.572778,
     "end_time": "2020-09-23T12:03:05.786294",
     "exception": false,
     "start_time": "2020-09-23T12:03:05.213516",
     "status": "completed"
    },
    "tags": []
   },
   "outputs": [],
   "source": [
    "from sklearn.naive_bayes import GaussianNB\n",
    "\n",
    "gnb = GaussianNB()\n",
    "\n",
    "gnb.fit(X_train, y_train)\n",
    "\n",
    "pred_gnb = gnb.predict(X_test)"
   ]
  },
  {
   "cell_type": "markdown",
   "metadata": {},
   "source": [
    "#### SVM"
   ]
  },
  {
   "cell_type": "code",
   "execution_count": 26,
   "metadata": {
    "execution": {
     "iopub.execute_input": "2020-09-23T12:03:05.954705Z",
     "iopub.status.busy": "2020-09-23T12:03:05.946957Z",
     "iopub.status.idle": "2020-09-23T12:04:07.159789Z",
     "shell.execute_reply": "2020-09-23T12:04:07.159030Z"
    },
    "papermill": {
     "duration": 61.2987,
     "end_time": "2020-09-23T12:04:07.159923",
     "exception": false,
     "start_time": "2020-09-23T12:03:05.861223",
     "status": "completed"
    },
    "tags": []
   },
   "outputs": [],
   "source": [
    "from sklearn.svm import SVC\n",
    "clf = SVC(gamma='auto')\n",
    "clf.fit(X_train, y_train)\n",
    "pred_svm=clf.predict(X_test)"
   ]
  },
  {
   "cell_type": "markdown",
   "metadata": {},
   "source": [
    "#### KNN"
   ]
  },
  {
   "cell_type": "code",
   "execution_count": 27,
   "metadata": {
    "execution": {
     "iopub.execute_input": "2020-09-23T12:04:07.320795Z",
     "iopub.status.busy": "2020-09-23T12:04:07.320156Z",
     "iopub.status.idle": "2020-09-23T12:04:33.577824Z",
     "shell.execute_reply": "2020-09-23T12:04:33.577161Z"
    },
    "papermill": {
     "duration": 26.340628,
     "end_time": "2020-09-23T12:04:33.577943",
     "exception": false,
     "start_time": "2020-09-23T12:04:07.237315",
     "status": "completed"
    },
    "tags": []
   },
   "outputs": [],
   "source": [
    "from sklearn.neighbors import KNeighborsClassifier\n",
    "\n",
    "neigh = KNeighborsClassifier(n_neighbors=3)\n",
    "neigh.fit(X_train, y_train)\n",
    "\n",
    "pred_knn = neigh.predict(X_test)"
   ]
  },
  {
   "cell_type": "markdown",
   "metadata": {},
   "source": [
    "#### Decision Tree"
   ]
  },
  {
   "cell_type": "code",
   "execution_count": 28,
   "metadata": {
    "execution": {
     "iopub.execute_input": "2020-09-23T12:04:33.731542Z",
     "iopub.status.busy": "2020-09-23T12:04:33.730878Z",
     "iopub.status.idle": "2020-09-23T12:04:37.115760Z",
     "shell.execute_reply": "2020-09-23T12:04:37.115147Z"
    },
    "papermill": {
     "duration": 3.463083,
     "end_time": "2020-09-23T12:04:37.115873",
     "exception": false,
     "start_time": "2020-09-23T12:04:33.652790",
     "status": "completed"
    },
    "tags": []
   },
   "outputs": [],
   "source": [
    "from sklearn import tree\n",
    "\n",
    "dt = tree.DecisionTreeClassifier()\n",
    "dt = dt.fit(X_train, y_train)\n",
    "\n",
    "pred_dt = dt.predict(X_test)"
   ]
  },
  {
   "cell_type": "markdown",
   "metadata": {},
   "source": [
    "### Confusion Matrix for the different algorithms"
   ]
  },
  {
   "cell_type": "code",
   "execution_count": 29,
   "metadata": {
    "execution": {
     "iopub.execute_input": "2020-09-23T12:04:37.439072Z",
     "iopub.status.busy": "2020-09-23T12:04:37.438094Z",
     "iopub.status.idle": "2020-09-23T12:04:37.446840Z",
     "shell.execute_reply": "2020-09-23T12:04:37.447467Z"
    },
    "papermill": {
     "duration": 0.08888,
     "end_time": "2020-09-23T12:04:37.447630",
     "exception": false,
     "start_time": "2020-09-23T12:04:37.358750",
     "status": "completed"
    },
    "tags": []
   },
   "outputs": [
    {
     "name": "stdout",
     "output_type": "stream",
     "text": [
      "For CNN\n",
      "Confusion Matrix: \n",
      "[[570  18]\n",
      " [  0 252]]\n",
      "Accuracy Score:  0.9785714285714285\n",
      "Precision Score:  0.9333333333333333\n",
      "Recall Score:  1.0\n",
      "F1 Score:  0.9655172413793104\n"
     ]
    }
   ],
   "source": [
    "cm_cnn = confusion_matrix(y_test, pred)\n",
    "print('For CNN')\n",
    "print('Confusion Matrix: ')\n",
    "print(cm_cnn)\n",
    "as1 = accuracy_score(y_test, pred)\n",
    "ps1 = precision_score(y_test, pred)\n",
    "rs1 = recall_score(y_test, pred)\n",
    "f1s1 = f1_score(y_test, pred)\n",
    "print('Accuracy Score: ',as1)\n",
    "print('Precision Score: ',ps1)\n",
    "print('Recall Score: ',rs1)\n",
    "print('F1 Score: ',f1s1)"
   ]
  },
  {
   "cell_type": "code",
   "execution_count": 30,
   "metadata": {
    "execution": {
     "iopub.execute_input": "2020-09-23T12:04:37.604589Z",
     "iopub.status.busy": "2020-09-23T12:04:37.603834Z",
     "iopub.status.idle": "2020-09-23T12:04:37.606823Z",
     "shell.execute_reply": "2020-09-23T12:04:37.607366Z"
    },
    "papermill": {
     "duration": 0.084733,
     "end_time": "2020-09-23T12:04:37.607501",
     "exception": false,
     "start_time": "2020-09-23T12:04:37.522768",
     "status": "completed"
    },
    "tags": []
   },
   "outputs": [
    {
     "name": "stdout",
     "output_type": "stream",
     "text": [
      "For Naive Bayes\n",
      "Confusion Matrix: \n",
      "[[569  19]\n",
      " [  0 252]]\n",
      "Accuracy Score:  0.9773809523809524\n",
      "Precision Score:  0.9298892988929889\n",
      "Recall Score:  1.0\n",
      "F1 Score:  0.9636711281070746\n"
     ]
    }
   ],
   "source": [
    "cm_gnb = confusion_matrix(y_test, pred_gnb)\n",
    "print('For Naive Bayes')\n",
    "print('Confusion Matrix: ')\n",
    "print(cm_gnb)\n",
    "as2 = accuracy_score(y_test, pred_gnb)\n",
    "ps2 = precision_score(y_test, pred_gnb)\n",
    "rs2 = recall_score(y_test, pred_gnb)\n",
    "f1s2 = f1_score(y_test, pred_gnb)\n",
    "print('Accuracy Score: ',as2)\n",
    "print('Precision Score: ',ps2)\n",
    "print('Recall Score: ',rs2)\n",
    "print('F1 Score: ',f1s2)"
   ]
  },
  {
   "cell_type": "code",
   "execution_count": 31,
   "metadata": {
    "execution": {
     "iopub.execute_input": "2020-09-23T12:04:37.765615Z",
     "iopub.status.busy": "2020-09-23T12:04:37.764639Z",
     "iopub.status.idle": "2020-09-23T12:04:37.768841Z",
     "shell.execute_reply": "2020-09-23T12:04:37.768066Z"
    },
    "papermill": {
     "duration": 0.086241,
     "end_time": "2020-09-23T12:04:37.768946",
     "exception": false,
     "start_time": "2020-09-23T12:04:37.682705",
     "status": "completed"
    },
    "tags": []
   },
   "outputs": [
    {
     "name": "stdout",
     "output_type": "stream",
     "text": [
      "For SVM\n",
      "Confusion Matrix: \n",
      "[[588   0]\n",
      " [198  54]]\n",
      "Accuracy Score:  0.7642857142857142\n",
      "Precision Score:  1.0\n",
      "Recall Score:  0.21428571428571427\n",
      "F1 Score:  0.35294117647058826\n"
     ]
    }
   ],
   "source": [
    "cm_svm = confusion_matrix(y_test, pred_svm)\n",
    "print('For SVM')\n",
    "print('Confusion Matrix: ')\n",
    "print(cm_svm)\n",
    "as3 = accuracy_score(y_test, pred_svm)\n",
    "ps3 = precision_score(y_test, pred_svm)\n",
    "rs3 = recall_score(y_test, pred_svm)\n",
    "f1s3 = f1_score(y_test, pred_svm)\n",
    "print('Accuracy Score: ',as3)\n",
    "print('Precision Score: ',ps3)\n",
    "print('Recall Score: ',rs3)\n",
    "print('F1 Score: ',f1s3)"
   ]
  },
  {
   "cell_type": "code",
   "execution_count": 32,
   "metadata": {
    "execution": {
     "iopub.execute_input": "2020-09-23T12:04:37.923245Z",
     "iopub.status.busy": "2020-09-23T12:04:37.922246Z",
     "iopub.status.idle": "2020-09-23T12:04:37.928938Z",
     "shell.execute_reply": "2020-09-23T12:04:37.929438Z"
    },
    "papermill": {
     "duration": 0.08568,
     "end_time": "2020-09-23T12:04:37.929587",
     "exception": false,
     "start_time": "2020-09-23T12:04:37.843907",
     "status": "completed"
    },
    "tags": []
   },
   "outputs": [
    {
     "name": "stdout",
     "output_type": "stream",
     "text": [
      "For KNN\n",
      "Confusion Matrix: \n",
      "[[225 363]\n",
      " [  0 252]]\n",
      "Accuracy Score:  0.5678571428571428\n",
      "Precision Score:  0.4097560975609756\n",
      "Recall Score:  1.0\n",
      "F1 Score:  0.5813148788927336\n"
     ]
    }
   ],
   "source": [
    "cm_knn = confusion_matrix(y_test, pred_knn)\n",
    "print('For KNN')\n",
    "print('Confusion Matrix: ')\n",
    "print(cm_knn)\n",
    "as4 = accuracy_score(y_test, pred_knn)\n",
    "ps4 = precision_score(y_test, pred_knn)\n",
    "rs4 = recall_score(y_test, pred_knn)\n",
    "f1s4 = f1_score(y_test, pred_knn)\n",
    "print('Accuracy Score: ',as4)\n",
    "print('Precision Score: ',ps4)\n",
    "print('Recall Score: ',rs4)\n",
    "print('F1 Score: ',f1s4)"
   ]
  },
  {
   "cell_type": "code",
   "execution_count": 33,
   "metadata": {
    "execution": {
     "iopub.execute_input": "2020-09-23T12:04:38.090228Z",
     "iopub.status.busy": "2020-09-23T12:04:38.089202Z",
     "iopub.status.idle": "2020-09-23T12:04:38.097466Z",
     "shell.execute_reply": "2020-09-23T12:04:38.096891Z"
    },
    "papermill": {
     "duration": 0.09064,
     "end_time": "2020-09-23T12:04:38.097581",
     "exception": false,
     "start_time": "2020-09-23T12:04:38.006941",
     "status": "completed"
    },
    "tags": []
   },
   "outputs": [
    {
     "name": "stdout",
     "output_type": "stream",
     "text": [
      "For Decision Tree\n",
      "Confusion Matrix: \n",
      "[[479 109]\n",
      " [  0 252]]\n",
      "Accuracy Score:  0.8702380952380953\n",
      "Precision Score:  0.6980609418282548\n",
      "Recall Score:  1.0\n",
      "F1 Score:  0.8221859706362153\n"
     ]
    }
   ],
   "source": [
    "cm_dt = confusion_matrix(y_test, pred_dt)\n",
    "print('For Decision Tree')\n",
    "print('Confusion Matrix: ')\n",
    "print(cm_dt)\n",
    "as5 = accuracy_score(y_test, pred_dt)\n",
    "ps5 = precision_score(y_test, pred_dt)\n",
    "rs5 = recall_score(y_test, pred_dt)\n",
    "f1s5 = f1_score(y_test, pred_dt)\n",
    "print('Accuracy Score: ',as5)\n",
    "print('Precision Score: ',ps5)\n",
    "print('Recall Score: ',rs5)\n",
    "print('F1 Score: ',f1s5)"
   ]
  },
  {
   "cell_type": "markdown",
   "metadata": {},
   "source": [
    "### Classification Report for the different algorithms"
   ]
  },
  {
   "cell_type": "code",
   "execution_count": 34,
   "metadata": {},
   "outputs": [
    {
     "name": "stdout",
     "output_type": "stream",
     "text": [
      "For CNN\n",
      "                        precision    recall  f1-score   support\n",
      "\n",
      "      Normal SQL Query       1.00      0.97      0.98       588\n",
      "SQL Injection Detected       0.93      1.00      0.97       252\n",
      "\n",
      "              accuracy                           0.98       840\n",
      "             macro avg       0.97      0.98      0.97       840\n",
      "          weighted avg       0.98      0.98      0.98       840\n",
      "\n",
      "-----------------------------------------------------------------\n",
      "For Naive Bayes\n",
      "                        precision    recall  f1-score   support\n",
      "\n",
      "      Normal SQL Query       1.00      0.97      0.98       588\n",
      "SQL Injection Detected       0.93      1.00      0.96       252\n",
      "\n",
      "              accuracy                           0.98       840\n",
      "             macro avg       0.96      0.98      0.97       840\n",
      "          weighted avg       0.98      0.98      0.98       840\n",
      "\n",
      "-----------------------------------------------------------------\n",
      "For SVM\n",
      "                        precision    recall  f1-score   support\n",
      "\n",
      "      Normal SQL Query       0.75      1.00      0.86       588\n",
      "SQL Injection Detected       1.00      0.21      0.35       252\n",
      "\n",
      "              accuracy                           0.76       840\n",
      "             macro avg       0.87      0.61      0.60       840\n",
      "          weighted avg       0.82      0.76      0.71       840\n",
      "\n",
      "-----------------------------------------------------------------\n",
      "For KNN\n",
      "                        precision    recall  f1-score   support\n",
      "\n",
      "      Normal SQL Query       1.00      0.38      0.55       588\n",
      "SQL Injection Detected       0.41      1.00      0.58       252\n",
      "\n",
      "              accuracy                           0.57       840\n",
      "             macro avg       0.70      0.69      0.57       840\n",
      "          weighted avg       0.82      0.57      0.56       840\n",
      "\n",
      "-----------------------------------------------------------------\n",
      "For Decision Tree\n",
      "                        precision    recall  f1-score   support\n",
      "\n",
      "      Normal SQL Query       1.00      0.81      0.90       588\n",
      "SQL Injection Detected       0.70      1.00      0.82       252\n",
      "\n",
      "              accuracy                           0.87       840\n",
      "             macro avg       0.85      0.91      0.86       840\n",
      "          weighted avg       0.91      0.87      0.88       840\n",
      "\n"
     ]
    }
   ],
   "source": [
    "print('For CNN')\n",
    "print(classification_report(y_test, pred, target_names=['Normal SQL Query', 'SQL Injection Detected']))\n",
    "print('-----------------------------------------------------------------')\n",
    "print('For Naive Bayes')\n",
    "print(classification_report(y_test, pred_gnb, target_names=['Normal SQL Query', 'SQL Injection Detected']))\n",
    "print('-----------------------------------------------------------------')\n",
    "print('For SVM')\n",
    "print(classification_report(y_test, pred_svm, target_names=['Normal SQL Query', 'SQL Injection Detected']))\n",
    "print('-----------------------------------------------------------------')\n",
    "print('For KNN')\n",
    "print(classification_report(y_test, pred_knn, target_names=['Normal SQL Query', 'SQL Injection Detected']))\n",
    "print('-----------------------------------------------------------------')\n",
    "print('For Decision Tree')\n",
    "print(classification_report(y_test, pred_dt, target_names=['Normal SQL Query', 'SQL Injection Detected']))"
   ]
  },
  {
   "cell_type": "markdown",
   "metadata": {},
   "source": [
    "### Heat Map for the different Algorithms"
   ]
  },
  {
   "cell_type": "code",
   "execution_count": 35,
   "metadata": {},
   "outputs": [
    {
     "name": "stdout",
     "output_type": "stream",
     "text": [
      "For CNN, Confusion Matrix: \n",
      "[[570  18]\n",
      " [  0 252]]\n"
     ]
    },
    {
     "data": {
      "text/plain": [
       "<AxesSubplot:>"
      ]
     },
     "execution_count": 35,
     "metadata": {},
     "output_type": "execute_result"
    },
    {
     "data": {
      "image/png": "[encoded data removed]",
      "text/plain": [
       "<Figure size 432x288 with 2 Axes>"
      ]
     },
     "metadata": {
      "needs_background": "light"
     },
     "output_type": "display_data"
    }
   ],
   "source": [
    "clf_report1 = classification_report(y_test, pred, target_names=['Normal SQL Query', 'SQL Injection Detected'], output_dict=True)\n",
    "cleaned_report1 = {}\n",
    "\n",
    "cleaned_report1['Normal SQL Query'] = clf_report1['Normal SQL Query']\n",
    "cleaned_report1['SQL Injection Detected'] = clf_report1['SQL Injection Detected']\n",
    "\n",
    "print('For CNN, Confusion Matrix: ')\n",
    "print(cm_cnn)\n",
    "sns.heatmap(pd.DataFrame(cleaned_report1), annot=True, cmap=\"Blues\")"
   ]
  },
  {
   "cell_type": "code",
   "execution_count": 36,
   "metadata": {},
   "outputs": [
    {
     "name": "stdout",
     "output_type": "stream",
     "text": [
      "For Naive Bayes\n",
      "[[569  19]\n",
      " [  0 252]]\n"
     ]
    },
    {
     "data": {
      "text/plain": [
       "<AxesSubplot:>"
      ]
     },
     "execution_count": 36,
     "metadata": {},
     "output_type": "execute_result"
    },
    {
     "data": {
      "image/png": "[encoded data removed]",
      "text/plain": [
       "<Figure size 432x288 with 2 Axes>"
      ]
     },
     "metadata": {
      "needs_background": "light"
     },
     "output_type": "display_data"
    }
   ],
   "source": [
    "clf_report2 = classification_report(y_test, pred_gnb, target_names=['Normal SQL Query', 'SQL Injection Detected'], output_dict=True)\n",
    "cleaned_report2 = {}\n",
    "\n",
    "cleaned_report2['Normal SQL Query'] = clf_report2['Normal SQL Query']\n",
    "cleaned_report2['SQL Injection Detected'] = clf_report2['SQL Injection Detected']\n",
    "\n",
    "print('For Naive Bayes')\n",
    "print(cm_gnb)\n",
    "sns.heatmap(pd.DataFrame(cleaned_report2), annot=True, cmap=\"Blues\")"
   ]
  },
  {
   "cell_type": "code",
   "execution_count": 37,
   "metadata": {},
   "outputs": [
    {
     "name": "stdout",
     "output_type": "stream",
     "text": [
      "For SVM\n",
      "[[588   0]\n",
      " [198  54]]\n"
     ]
    },
    {
     "data": {
      "text/plain": [
       "<AxesSubplot:>"
      ]
     },
     "execution_count": 37,
     "metadata": {},
     "output_type": "execute_result"
    },
    {
     "data": {
      "image/png": "[encoded data removed]",
      "text/plain": [
       "<Figure size 432x288 with 2 Axes>"
      ]
     },
     "metadata": {
      "needs_background": "light"
     },
     "output_type": "display_data"
    }
   ],
   "source": [
    "clf_report3 = classification_report(y_test, pred_svm, target_names=['Normal SQL Query', 'SQL Injection Detected'], output_dict=True)\n",
    "cleaned_report3 = {}\n",
    "\n",
    "cleaned_report3['Normal SQL Query'] = clf_report3['Normal SQL Query']\n",
    "cleaned_report3['SQL Injection Detected'] = clf_report3['SQL Injection Detected']\n",
    "\n",
    "print('For SVM')\n",
    "print(cm_svm)\n",
    "sns.heatmap(pd.DataFrame(cleaned_report3), annot=True, cmap=\"Blues\")"
   ]
  },
  {
   "cell_type": "code",
   "execution_count": 38,
   "metadata": {},
   "outputs": [
    {
     "name": "stdout",
     "output_type": "stream",
     "text": [
      "For KNN\n",
      "[[225 363]\n",
      " [  0 252]]\n"
     ]
    },
    {
     "data": {
      "text/plain": [
       "<AxesSubplot:>"
      ]
     },
     "execution_count": 38,
     "metadata": {},
     "output_type": "execute_result"
    },
    {
     "data": {
      "image/png": "[encoded data removed]",
      "text/plain": [
       "<Figure size 432x288 with 2 Axes>"
      ]
     },
     "metadata": {
      "needs_background": "light"
     },
     "output_type": "display_data"
    }
   ],
   "source": [
    "clf_report4 = classification_report(y_test, pred_knn, target_names=['Normal SQL Query', 'SQL Injection Detected'], output_dict=True)\n",
    "cleaned_report4 = {}\n",
    "\n",
    "cleaned_report4['Normal SQL Query'] = clf_report4['Normal SQL Query']\n",
    "cleaned_report4['SQL Injection Detected'] = clf_report4['SQL Injection Detected']\n",
    "\n",
    "print('For KNN')\n",
    "print(cm_knn)\n",
    "sns.heatmap(pd.DataFrame(cleaned_report4), annot=True, cmap=\"Blues\")"
   ]
  },
  {
   "cell_type": "code",
   "execution_count": 39,
   "metadata": {},
   "outputs": [
    {
     "name": "stdout",
     "output_type": "stream",
     "text": [
      "For Decision Tree\n",
      "[[479 109]\n",
      " [  0 252]]\n"
     ]
    },
    {
     "data": {
      "text/plain": [
       "<AxesSubplot:>"
      ]
     },
     "execution_count": 39,
     "metadata": {},
     "output_type": "execute_result"
    },
    {
     "data": {
      "image/png": "[encoded data removed]",
      "text/plain": [
       "<Figure size 432x288 with 2 Axes>"
      ]
     },
     "metadata": {
      "needs_background": "light"
     },
     "output_type": "display_data"
    }
   ],
   "source": [
    "clf_report5 = classification_report(y_test, pred_dt, target_names=['Normal SQL Query', 'SQL Injection Detected'], output_dict=True)\n",
    "cleaned_report5 = {}\n",
    "\n",
    "cleaned_report5['Normal SQL Query'] = clf_report5['Normal SQL Query']\n",
    "cleaned_report5['SQL Injection Detected'] = clf_report5['SQL Injection Detected']\n",
    "\n",
    "print('For Decision Tree')\n",
    "print(cm_dt)\n",
    "sns.heatmap(pd.DataFrame(cleaned_report1), annot=True, cmap=\"Blues\")"
   ]
  },
  {
   "cell_type": "code",
   "execution_count": 40,
   "metadata": {},
   "outputs": [],
   "source": [
    "accuracies = {\"CNN\": as1,  \n",
    "             \"Naive\": as2, \n",
    "             \"SVM\": as3,\n",
    "             \"KNN\": as4, \n",
    "             \"DT\": as5 \n",
    "             }\n",
    "\n",
    "precisions = {\"CNN\": ps1,  \n",
    "             \"Naive\": ps2, \n",
    "             \"SVM\": ps3,\n",
    "             \"KNN\": ps4, \n",
    "             \"DT\": ps5\n",
    "             }\n",
    "\n",
    "recalls = {\"CNN\": rs1,  \n",
    "             \"Naive\": rs2, \n",
    "             \"SVM\": rs3,\n",
    "             \"KNN\": rs4, \n",
    "             \"DT\": rs5\n",
    "             }\n",
    "\n",
    "f1s = {\"CNN\": f1s1,  \n",
    "             \"Naive\": f1s2, \n",
    "             \"SVM\": f1s3,\n",
    "             \"KNN\": f1s4, \n",
    "             \"DT\": f1s5\n",
    "             }"
   ]
  },
  {
   "cell_type": "code",
   "execution_count": 41,
   "metadata": {},
   "outputs": [
    {
     "name": "stdout",
     "output_type": "stream",
     "text": [
      "Classification models in descending order of Accuracy:\n"
     ]
    },
    {
     "data": {
      "text/plain": [
       "[('CNN', 0.9785714285714285),\n",
       " ('Naive', 0.9773809523809524),\n",
       " ('DT', 0.8702380952380953),\n",
       " ('SVM', 0.7642857142857142),\n",
       " ('KNN', 0.5678571428571428)]"
      ]
     },
     "execution_count": 41,
     "metadata": {},
     "output_type": "execute_result"
    }
   ],
   "source": [
    "print(\"Classification models in descending order of Accuracy:\")\n",
    "sorted(accuracies.items(), key=lambda x: x[1],reverse=True)"
   ]
  },
  {
   "cell_type": "code",
   "execution_count": 42,
   "metadata": {},
   "outputs": [
    {
     "data": {
      "image/png": "[encoded data removed]",
      "text/plain": [
       "<Figure size 576x360 with 1 Axes>"
      ]
     },
     "metadata": {
      "needs_background": "light"
     },
     "output_type": "display_data"
    }
   ],
   "source": [
    "lists = sorted(accuracies.items(), key=lambda x: x[1]*100) # sorted by key, return a list of tuples\n",
    "\n",
    "plt.figure(figsize=(8,5))\n",
    "plt.bar(*zip(*lists))\n",
    "\n",
    "plt.title('Classification Models vs Accuracy')\n",
    "plt.xlabel('Classification Models')\n",
    "plt.ylabel('Accuracy')\n",
    "plt.show()"
   ]
  },
  {
   "cell_type": "code",
   "execution_count": 43,
   "metadata": {},
   "outputs": [
    {
     "name": "stdout",
     "output_type": "stream",
     "text": [
      "Classification models in descending order of Precision:\n"
     ]
    },
    {
     "data": {
      "text/plain": [
       "[('SVM', 1.0),\n",
       " ('CNN', 0.9333333333333333),\n",
       " ('Naive', 0.9298892988929889),\n",
       " ('DT', 0.6980609418282548),\n",
       " ('KNN', 0.4097560975609756)]"
      ]
     },
     "execution_count": 43,
     "metadata": {},
     "output_type": "execute_result"
    }
   ],
   "source": [
    "print(\"Classification models in descending order of Precision:\")\n",
    "sorted(precisions.items(), key=lambda x: x[1],reverse=True)"
   ]
  },
  {
   "cell_type": "code",
   "execution_count": 44,
   "metadata": {},
   "outputs": [
    {
     "data": {
      "image/png": "[encoded data removed]",
      "text/plain": [
       "<Figure size 576x360 with 1 Axes>"
      ]
     },
     "metadata": {
      "needs_background": "light"
     },
     "output_type": "display_data"
    }
   ],
   "source": [
    "lists = sorted(precisions.items(), key=lambda x: x[1]*100) # sorted by key, return a list of tuples\n",
    "\n",
    "plt.figure(figsize=(8,5))\n",
    "plt.bar(*zip(*lists), color=\"tomato\")\n",
    "\n",
    "plt.title('Classification Models vs Precision')\n",
    "plt.xlabel('Classification Models')\n",
    "plt.ylabel('Precision')\n",
    "plt.show()"
   ]
  },
  {
   "cell_type": "code",
   "execution_count": 45,
   "metadata": {},
   "outputs": [
    {
     "name": "stdout",
     "output_type": "stream",
     "text": [
      "Classification models in descending order of Recall:\n"
     ]
    },
    {
     "data": {
      "text/plain": [
       "[('CNN', 1.0),\n",
       " ('Naive', 1.0),\n",
       " ('KNN', 1.0),\n",
       " ('DT', 1.0),\n",
       " ('SVM', 0.21428571428571427)]"
      ]
     },
     "execution_count": 45,
     "metadata": {},
     "output_type": "execute_result"
    }
   ],
   "source": [
    "print(\"Classification models in descending order of Recall:\")\n",
    "sorted(recalls.items(), key=lambda x: x[1],reverse=True)"
   ]
  },
  {
   "cell_type": "code",
   "execution_count": 46,
   "metadata": {},
   "outputs": [
    {
     "data": {
      "image/png": "[encoded data removed]",
      "text/plain": [
       "<Figure size 576x360 with 1 Axes>"
      ]
     },
     "metadata": {
      "needs_background": "light"
     },
     "output_type": "display_data"
    }
   ],
   "source": [
    "lists = sorted(recalls.items(), key=lambda x: x[1]*100) # sorted by key, return a list of tuples\n",
    "\n",
    "plt.figure(figsize=(8,5))\n",
    "plt.bar(*zip(*lists), color=\"mediumseagreen\")\n",
    "\n",
    "plt.title('Classification Models vs Recall')\n",
    "plt.xlabel('Classification Models')\n",
    "plt.ylabel('Recall')\n",
    "plt.show()"
   ]
  },
  {
   "cell_type": "code",
   "execution_count": 47,
   "metadata": {},
   "outputs": [
    {
     "name": "stdout",
     "output_type": "stream",
     "text": [
      "Classification models in descending order of F1:\n"
     ]
    },
    {
     "data": {
      "text/plain": [
       "[('CNN', 0.9655172413793104),\n",
       " ('Naive', 0.9636711281070746),\n",
       " ('DT', 0.8221859706362153),\n",
       " ('KNN', 0.5813148788927336),\n",
       " ('SVM', 0.35294117647058826)]"
      ]
     },
     "execution_count": 47,
     "metadata": {},
     "output_type": "execute_result"
    }
   ],
   "source": [
    "print(\"Classification models in descending order of F1:\")\n",
    "sorted(f1s.items(), key=lambda x: x[1],reverse=True)"
   ]
  },
  {
   "cell_type": "code",
   "execution_count": 48,
   "metadata": {},
   "outputs": [
    {
     "data": {
      "image/png": "[encoded data removed]",
      "text/plain": [
       "<Figure size 576x360 with 1 Axes>"
      ]
     },
     "metadata": {
      "needs_background": "light"
     },
     "output_type": "display_data"
    }
   ],
   "source": [
    "lists = sorted(f1s.items(), key=lambda x: x[1]*100) # sorted by key, return a list of tuples\n",
    "\n",
    "plt.figure(figsize=(8,5))\n",
    "plt.bar(*zip(*lists), color=\"purple\")\n",
    "\n",
    "plt.title('Classification Models vs F1')\n",
    "plt.xlabel('Classification Models')\n",
    "plt.ylabel('F1')\n",
    "plt.show()"
   ]
  },
  {
   "cell_type": "markdown",
   "metadata": {},
   "source": [
    "### Saving the model"
   ]
  },
  {
   "cell_type": "code",
   "execution_count": 49,
   "metadata": {
    "execution": {
     "iopub.execute_input": "2020-09-23T12:04:38.267301Z",
     "iopub.status.busy": "2020-09-23T12:04:38.266601Z",
     "iopub.status.idle": "2020-09-23T12:04:38.298278Z",
     "shell.execute_reply": "2020-09-23T12:04:38.297733Z"
    },
    "papermill": {
     "duration": 0.122548,
     "end_time": "2020-09-23T12:04:38.298389",
     "exception": false,
     "start_time": "2020-09-23T12:04:38.175841",
     "status": "completed"
    },
    "tags": []
   },
   "outputs": [],
   "source": [
    "from keras.models import load_model\n",
    "import pickle\n",
    "\n",
    "model.save('model_cnn.h5')\n",
    "with open('vectorizer_cnn', 'wb') as fin:\n",
    "    pickle.dump(vectorizer, fin)\n"
   ]
  },
  {
   "cell_type": "markdown",
   "metadata": {},
   "source": [
    "### User Prediction"
   ]
  },
  {
   "cell_type": "code",
   "execution_count": 1,
   "metadata": {
    "execution": {
     "iopub.execute_input": "2020-09-23T12:04:38.479704Z",
     "iopub.status.busy": "2020-09-23T12:04:38.478791Z",
     "iopub.status.idle": "2020-09-23T12:04:38.597076Z",
     "shell.execute_reply": "2020-09-23T12:04:38.596421Z"
    },
    "papermill": {
     "duration": 0.222117,
     "end_time": "2020-09-23T12:04:38.597192",
     "exception": false,
     "start_time": "2020-09-23T12:04:38.375075",
     "status": "completed"
    },
    "tags": []
   },
   "outputs": [],
   "source": [
    "import keras\n",
    "from keras.models import load_model\n",
    "import pickle\n",
    "import tensorflow as tf\n",
    "\n",
    "mymodel = tf.keras.models.load_model('model_cnn.h5')\n",
    "myvectorizer = pickle.load(open(\"vectorizer_cnn\", 'rb'))\n",
    "\n",
    "def clean_data(input_val):\n",
    "\n",
    "    input_val=input_val.replace('\\n', '')\n",
    "    input_val=input_val.replace('%20', ' ')\n",
    "    input_val=input_val.replace('=', ' = ')\n",
    "    input_val=input_val.replace('((', ' (( ')\n",
    "    input_val=input_val.replace('))', ' )) ')\n",
    "    input_val=input_val.replace('(', ' ( ')\n",
    "    input_val=input_val.replace(')', ' ) ')\n",
    "    input_val=input_val.replace('1 ', 'numeric')\n",
    "    input_val=input_val.replace(' 1', 'numeric')\n",
    "    input_val=input_val.replace(\"'1 \", \"'numeric \")\n",
    "    input_val=input_val.replace(\" 1'\", \" numeric'\")\n",
    "    input_val=input_val.replace('1,', 'numeric,')\n",
    "    input_val=input_val.replace(\" 2 \", \" numeric \")\n",
    "    input_val=input_val.replace(' 3 ', ' numeric ')\n",
    "    input_val=input_val.replace(' 3--', ' numeric--')\n",
    "    input_val=input_val.replace(\" 4 \", ' numeric ')\n",
    "    input_val=input_val.replace(\" 5 \", ' numeric ')\n",
    "    input_val=input_val.replace(' 6 ', ' numeric ')\n",
    "    input_val=input_val.replace(\" 7 \", ' numeric ')\n",
    "    input_val=input_val.replace(\" 8 \", ' numeric ')\n",
    "    input_val=input_val.replace('1234', ' numeric ')\n",
    "    input_val=input_val.replace(\"22\", ' numeric ')\n",
    "    input_val=input_val.replace(\" 8 \", ' numeric ')\n",
    "    input_val=input_val.replace(\" 200 \", ' numeric ')\n",
    "    input_val=input_val.replace(\"23 \", ' numeric ')\n",
    "    input_val=input_val.replace('\"1', '\"numeric')\n",
    "    input_val=input_val.replace('1\"', '\"numeric')\n",
    "    input_val=input_val.replace(\"7659\", 'numeric')\n",
    "    input_val=input_val.replace(\" 37 \", ' numeric ')\n",
    "    input_val=input_val.replace(\" 45 \", ' numeric ')\n",
    "\n",
    "    return input_val\n",
    "\n",
    "def predict_sqli_attack():\n",
    "    \n",
    "    repeat=True\n",
    "    \n",
    "    beautify=''\n",
    "    for i in range(20):\n",
    "        beautify+= \"*\"\n",
    "\n",
    "    print(beautify) \n",
    "    input_val=input(\"Enter a sentence : \")\n",
    " \n",
    "    if input_val== '0':\n",
    "        repeat=False\n",
    "\n",
    "    input_val=clean_data(input_val)\n",
    "    input_val=[input_val]\n",
    "\n",
    "    input_val=myvectorizer.transform(input_val).toarray()\n",
    "\n",
    "    result=mymodel.predict(input_val)\n",
    "    \n",
    "    if repeat == True:\n",
    "        \n",
    "        if result>0.5:\n",
    "            print(\"ALERT!!!! SQL injection Detected\")\n",
    "        elif result<=0.5:\n",
    "            print(\"It is normal\")          \n",
    "        print(beautify)\n",
    "            \n",
    "        predict_sqli_attack()\n",
    "            \n",
    "    elif repeat == False:\n",
    "        print( \" Closing detection \")"
   ]
  },
  {
   "cell_type": "code",
   "execution_count": 2,
   "metadata": {
    "execution": {
     "iopub.execute_input": "2020-09-23T12:04:38.755916Z",
     "iopub.status.busy": "2020-09-23T12:04:38.754783Z",
     "iopub.status.idle": "2020-09-23T12:04:38.757591Z",
     "shell.execute_reply": "2020-09-23T12:04:38.758146Z"
    },
    "papermill": {
     "duration": 0.084994,
     "end_time": "2020-09-23T12:04:38.758281",
     "exception": false,
     "start_time": "2020-09-23T12:04:38.673287",
     "status": "completed"
    },
    "tags": []
   },
   "outputs": [
    {
     "name": "stdout",
     "output_type": "stream",
     "text": [
      "********************\n",
      "Enter a sentence : select * from users where id = 1 or \"%?\" or 1 = 1 -- 1\n",
      "ALERT!!!! SQL injection Detected\n",
      "********************\n",
      "********************\n",
      "Enter a sentence : select * from users where id = 1. union select null, version ( )\n",
      "ALERT!!!! SQL injection Detected\n",
      "********************\n",
      "********************\n",
      "Enter a sentence : The order backlog transportation unit $ 32\n",
      "It is normal\n",
      "********************\n",
      "********************\n",
      "Enter a sentence : ) )  or benchmark ( 10000000,MD5 ( 1  ) ) #\n",
      "ALERT!!!! SQL injection Detected\n",
      "********************\n",
      "********************\n",
      "Enter a sentence : In Germany , many companies global market leaders particular niche \n",
      "It is normal\n",
      "********************\n",
      "********************\n",
      "Enter a sentence : 0\n",
      " Closing detection \n"
     ]
    }
   ],
   "source": [
    "predict_sqli_attack()"
   ]
  },
  {
   "cell_type": "code",
   "execution_count": null,
   "metadata": {},
   "outputs": [],
   "source": []
  }
 ],
 "metadata": {
  "kernelspec": {
   "display_name": "Python 3",
   "language": "python",
   "name": "python3"
  },
  "language_info": {
   "codemirror_mode": {
    "name": "ipython",
    "version": 3
   },
   "file_extension": ".py",
   "mimetype": "text/x-python",
   "name": "python",
   "nbconvert_exporter": "python",
   "pygments_lexer": "ipython3",
   "version": "3.8.8"
  },
  "papermill": {
   "duration": 121.913504,
   "end_time": "2020-09-23T12:04:39.258500",
   "environment_variables": {},
   "exception": null,
   "input_path": "__notebook__.ipynb",
   "output_path": "__notebook__.ipynb",
   "parameters": {},
   "start_time": "2020-09-23T12:02:37.344996",
   "version": "2.1.0"
  }
 },
 "nbformat": 4,
 "nbformat_minor": 4
}
